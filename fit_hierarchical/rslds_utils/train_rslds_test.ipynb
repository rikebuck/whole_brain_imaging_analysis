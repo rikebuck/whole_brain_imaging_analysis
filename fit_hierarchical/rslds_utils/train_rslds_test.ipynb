{
 "cells": [
  {
   "cell_type": "code",
   "execution_count": null,
   "id": "b00b749d",
   "metadata": {},
   "outputs": [],
   "source": [
    "import numpy as np\n",
    "import matplotlib.pyplot as plt\n",
    "import matplotlib\n",
    "# %matplotlib widget\n",
    "import pickle\n",
    "import matplotlib.gridspec as gridspec\n",
    "\n",
    "from sklearn.decomposition import PCA\n",
    "from scipy.cluster.hierarchy import linkage, leaves_list, dendrogram, fcluster\n",
    "import seaborn as sns\n",
    "import ipywidgets as widgets\n",
    "from IPython.display import display\n",
    "from ipywidgets import interact, IntSlider\n",
    "import sys\n",
    "import glob\n",
    "import os\n",
    "from datetime import datetime\n",
    "sys.path.append(\"/Users/friederikebuck/Desktop/MBL/project/WholeBrainImagingAnalysis/collab/\")\n",
    "sys.path.append('/Users/bennetsakelaris/Documents/Obsidian Vault/Worms/wormcode/Code+Notes 09-24-24/collab/')\n",
    "\n",
    "\n",
    "from rslds_utils.load_data_utils import load_all_data_but_pretend_its_all_one_worm, load_all_data\n",
    "from rslds_utils.rslds_plotting_utils import *\n",
    "from rslds_utils.subsample_neurons import *\n",
    "from rslds_utils.train_rslds import *\n"
   ]
  },
  {
   "cell_type": "code",
   "execution_count": null,
   "id": "3b5becbb",
   "metadata": {},
   "outputs": [],
   "source": [
    "\n",
    "from matplotlib.colors import LinearSegmentedColormap\n",
    "\n",
    "#color palette for plotting, colors as in make_behavior_ethogram\n",
    "palette = [\"coral\",     # forward\n",
    "           \"lightblue\", # reverse\n",
    "           \"darkgreen\", # turn\n",
    "           \"purple\",\"red\", \"yellow\", \"black\", \"pink\", \"grey\", \"cyan\"]    # pause\n",
    "cmap = LinearSegmentedColormap.from_list(\"behavior\", palette, N=len(palette))\n",
    "\n",
    "\n"
   ]
  },
  {
   "cell_type": "markdown",
   "id": "99261722",
   "metadata": {},
   "source": []
  },
  {
   "cell_type": "markdown",
   "id": "65ef1deb",
   "metadata": {},
   "source": [
    "# Load all worms\n",
    "Look at shapes"
   ]
  },
  {
   "cell_type": "code",
   "execution_count": null,
   "id": "26a17fd1",
   "metadata": {},
   "outputs": [],
   "source": [
    "np.random.seed(0)\n",
    "\n",
    "\n",
    "T = 1599\n",
    "full_traces, full_neural_labels, full_beh_classification, full_beh_data = load_all_data(combine_classes=True)\n",
    "for i in range(len(full_beh_classification)):\n",
    "    print(\"Worm {} number of neurons: {}, timesteps: {}\".format(i, full_traces[i].shape[1]/2, full_traces[i].shape[0])) #dividing neurons by 2 to include both traces and dtraces\n",
    "\n",
    "traces_all, neural_labels_all, behavior_classification, mask_all = load_all_data_but_pretend_its_all_one_worm(combine_classes=True)\n",
    "\n",
    "\n",
    "traces, neural_labels, mask = subsample_neurons(traces_all, neural_labels_all, mask_all, \n",
    "                                    var_explained_thresh = 0.3)"
   ]
  },
  {
   "cell_type": "code",
   "execution_count": null,
   "id": "651e96a6",
   "metadata": {},
   "outputs": [],
   "source": [
    "Y = np.copy(traces)\n",
    "Y[np.isnan(Y)] = 0\n",
    "Y = [Y[i*1599:1599*(i+1)] for i in range(len(full_traces))] #convert to list where each element is the time series of a different worm\n",
    "mask=mask.astype(bool)\n",
    "masks = [mask[i*1599:1599*(i+1)] for i in range(len(full_traces))] #likewise for mask\n",
    "print(len(Y))\n",
    "print(Y[5].shape)\n",
    "tags = [None]*len(masks)\n",
    "# set up a single behavioral state array (\"z\" in the language of scott): \n",
    "#   0: is_fwd\n",
    "#   1: is_rev\n",
    "#   2: is_turn\n",
    "z = behavior_classification[\"is_fwd\"]+ 2*behavior_classification[\"is_rev\"]+ 4*behavior_classification[\"is_pause\"]+3*behavior_classification[\"is_turn\"]-1\n",
    "z = z.astype(int)\n",
    "\n",
    "\n",
    "\n",
    "now = datetime.now()\n",
    "formatted_datetime = now.strftime(\"%Y%m%d_%H%M%S\")\n",
    "os.mkdir(formatted_datetime)\n",
    "np.save(formatted_datetime+\"/neurons.npy\", neural_labels)\n",
    "with open(formatted_datetime+\"/Y.npy\", 'wb') as handle:\n",
    "    pickle.dump(Y, handle, protocol=pickle.HIGHEST_PROTOCOL)"
   ]
  },
  {
   "cell_type": "code",
   "execution_count": null,
   "id": "154340e0",
   "metadata": {},
   "outputs": [],
   "source": [
    "n_disc_states = 4#K #Ks = np.arange(4,5,1)\n",
    "n_latent_dim = 4# D # Ds = np.arange(3,7,1)\n",
    "emissions_dim = neural_labels.shape[0]\n",
    "\n",
    "transition = \"recurrent_only\"\n",
    "#transition = \"sticky_recurrent_only\"\n",
    "dynamic = \"diagonal_gaussian\"\n",
    "emission = \"gaussian_orthog\"\n",
    "\n",
    "\n",
    "\n",
    "var_explained = train_and_eval_vanilla_model(Y, z,tags, masks, neural_labels, emissions_dim, n_disc_states,n_latent_dim , \n",
    "                                       transition, dynamic, emission,  palette, cmap, formatted_datetime, save_dir = \"\", filestr_supp = \"_vanilla\")\n",
    "        \n",
    "        \n",
    "\n",
    "\n",
    "\n",
    "var_explained = train_and_eval_hierarchical_model(Y, z,tags, masks, neural_labels, emissions_dim, n_disc_states,n_latent_dim , \n",
    "                                       transition, dynamic, emission,  palette, cmap, formatted_datetime, save_dir = \"\", filestr_supp = \"_hierch\"\n",
    "                                       )"
   ]
  }
 ],
 "metadata": {
  "language_info": {
   "name": "python"
  }
 },
 "nbformat": 4,
 "nbformat_minor": 5
}
