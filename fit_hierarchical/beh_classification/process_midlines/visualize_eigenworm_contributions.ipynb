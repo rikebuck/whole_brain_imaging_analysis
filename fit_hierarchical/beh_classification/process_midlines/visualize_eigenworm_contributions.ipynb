{
 "cells": [
  {
   "cell_type": "code",
   "execution_count": null,
   "metadata": {},
   "outputs": [],
   "source": [
    "'''\n",
    "visualize eigenworm contributions \n",
    "\n",
    "'''\n",
    "\n",
    "\n",
    "# Plot every kth point\n",
    "k = 5\n",
    "ax = plt.figure().add_subplot(projection='3d')\n",
    "contribs = contributions_normalized[0:3000]\n",
    "beh_resampled_cropped = beh_resampled[0:3000]\n",
    "ax.plot(contribs[::k, 0], contribs[::k, 1], contribs[::k, 2], c=\"gray\")\n",
    "\n",
    "for i, color in enumerate(palette):\n",
    "    beh_class_is = np.argwhere(beh_resampled_cropped == i)\n",
    "    # Slice to plot every 5th point of the classified behavior\n",
    "    beh_class_is = beh_class_is[::k]\n",
    "    ax.scatter(contribs[beh_class_is, 0], contribs[beh_class_is, 1], contribs[beh_class_is, 2], c=color, s=2)\n",
    "\n",
    "ax.set_xlabel('PC1', fontsize=20, rotation=150)\n",
    "ax.set_ylabel('PC2', fontsize=20, rotation=150)\n",
    "ax.set_zlabel(\"PC3\", fontsize=20, rotation=60)\n",
    "ax.view_init(azim=45, elev=30)\n",
    "\n",
    "plt.show()\n",
    "#######\n",
    "\n",
    "\n",
    "\n",
    "\n",
    "####\n",
    "\n",
    "###\n",
    "# fig, axs= plt.subplots(n_components+1, sharex=True)\n",
    "# time =  np.arange(beh_resampled.shape[0])\n",
    "# for i in range(n_components):\n",
    "    \n",
    "#     for j in range(time.shape[0]- 1):\n",
    "#         axs[i].axvspan(time[j], time[j+1], facecolor=palette[int(beh_resampled[j])], alpha=0.3)\n",
    "#     # axs[i] = color_ax_by_beh_class(axs[i], np.arange(beh_resampled.shape[0]), beh_resampled)\n",
    "#     axs[i].plot(contributions_resampled[:, i])\n",
    "#     # plt.show()\n",
    "# head_i = 2\n",
    "# for j in range(time.shape[0]- 1):\n",
    "#     axs[-1].axvspan(time[j], time[j+1], facecolor=palette[int(beh_resampled[j])], alpha=0.3)\n",
    "# axs[-1].plot(body_angles[:, head_i])\n",
    "# axs[0].set_title(\"contributions + head angle; midline length\"+str(target_length))\n",
    "\n",
    "\n",
    "#######\n",
    "\n",
    "fig, axs= plt.subplots(n_components, sharex=True)\n",
    "time =  np.arange(beh_resampled.shape[0])\n",
    "head_i = 2\n",
    "for i in range(n_components):\n",
    "    \n",
    "    for j in range(time.shape[0]- 1):\n",
    "        axs[i].axvspan(time[j], time[j+1], facecolor=palette[int(beh_resampled[j])], alpha=0.3)\n",
    "    # axs[i] = color_ax_by_beh_class(axs[i], np.arange(beh_resampled.shape[0]), beh_resampled)\n",
    "    axs[i].plot(contributions_normalized[:, i])\n",
    "    \n",
    "    axs[i].plot(body_angles[:, head_i]/nan_norm(body_angles[:, head_i]))#, alpha = 0.5)\n",
    "axs[0].set_title(\"contributions + head angle; midline length\"+str(target_length))\n",
    "\n",
    "#######\n",
    "body_i = 20\n",
    "fig, axs= plt.subplots(n_components, sharex=True)\n",
    "time =  np.arange(beh_resampled.shape[0])\n",
    "for i in range(n_components):\n",
    "    \n",
    "    for j in range(time.shape[0]- 1):\n",
    "        axs[i].axvspan(time[j], time[j+1], facecolor=palette[int(beh_resampled[j])], alpha=0.3)\n",
    "    # axs[i] = color_ax_by_beh_class(axs[i], np.arange(beh_resampled.shape[0]), beh_resampled)\n",
    "    axs[i].plot(contributions_normalized[:, i])\n",
    "    \n",
    "    axs[i].plot(body_angles[:, body_i]/nan_norm(body_angles[:, body_i]))#, alpha = 0.5)\n",
    "axs[0].set_title(\"contributions + body angle; midline length\"+str(target_length))\n",
    "\n",
    "\n"
   ]
  },
  {
   "cell_type": "code",
   "execution_count": 5,
   "metadata": {},
   "outputs": [
    {
     "name": "stdout",
     "output_type": "stream",
     "text": [
      "csv_name /Users/friederikebuck/Desktop/MBL/project/outputs/2023-03-07-01/csvs/rslds_inferred_states_confocal_org_beh.csv\n"
     ]
    },
    {
     "ename": "IndexError",
     "evalue": "list index out of range",
     "output_type": "error",
     "traceback": [
      "\u001b[0;31m---------------------------------------------------------------------------\u001b[0m",
      "\u001b[0;31mIndexError\u001b[0m                                Traceback (most recent call last)",
      "Cell \u001b[0;32mIn[5], line 97\u001b[0m\n\u001b[1;32m     94\u001b[0m n_frames \u001b[38;5;241m=\u001b[39m z_rslds_state\u001b[38;5;241m.\u001b[39mshape[\u001b[38;5;241m0\u001b[39m]\n\u001b[1;32m     96\u001b[0m frames \u001b[38;5;241m=\u001b[39m np\u001b[38;5;241m.\u001b[39marange(\u001b[38;5;241m0\u001b[39m, n_frames)\n\u001b[0;32m---> 97\u001b[0m \u001b[43msave_masked_imgs_and_annotations\u001b[49m\u001b[43m(\u001b[49m\n\u001b[1;32m     98\u001b[0m \u001b[43m    \u001b[49m\u001b[43mmask_img_dir\u001b[49m\u001b[43m,\u001b[49m\u001b[43m \u001b[49m\n\u001b[1;32m     99\u001b[0m \u001b[43m    \u001b[49m\u001b[43mframes\u001b[49m\u001b[43m,\u001b[49m\u001b[43m \u001b[49m\n\u001b[1;32m    100\u001b[0m \u001b[43m    \u001b[49m\u001b[43mrslds_neural_state_annotated_img_output_dir\u001b[49m\u001b[43m,\u001b[49m\u001b[43m \u001b[49m\n\u001b[1;32m    101\u001b[0m \u001b[43m    \u001b[49m\u001b[43mget_text_fnc\u001b[49m\u001b[43m,\u001b[49m\u001b[43m \u001b[49m\n\u001b[1;32m    102\u001b[0m \u001b[43m    \u001b[49m\u001b[43mreconstructed_midlines\u001b[49m\u001b[43m,\u001b[49m\u001b[43m \u001b[49m\n\u001b[1;32m    103\u001b[0m \u001b[43m    \u001b[49m\u001b[43mz_rslds_state\u001b[49m\u001b[43m,\u001b[49m\n\u001b[1;32m    104\u001b[0m \u001b[43m    \u001b[49m\u001b[43msave_mask_img\u001b[49m\u001b[43m \u001b[49m\u001b[38;5;241;43m=\u001b[39;49m\u001b[43m \u001b[49m\u001b[38;5;28;43;01mFalse\u001b[39;49;00m\u001b[43m,\u001b[49m\n\u001b[1;32m    105\u001b[0m \u001b[43m    \u001b[49m\u001b[43mmasked_img_output_dir\u001b[49m\u001b[43m \u001b[49m\u001b[38;5;241;43m=\u001b[39;49m\u001b[43m \u001b[49m\u001b[38;5;28;43;01mNone\u001b[39;49;00m\u001b[43m,\u001b[49m\u001b[43m \u001b[49m\n\u001b[1;32m    106\u001b[0m \u001b[43m    \u001b[49m\u001b[43mimgs\u001b[49m\u001b[43m \u001b[49m\u001b[38;5;241;43m=\u001b[39;49m\u001b[43m \u001b[49m\u001b[38;5;28;43;01mNone\u001b[39;49;00m\n\u001b[1;32m    107\u001b[0m \u001b[43m)\u001b[49m\n\u001b[1;32m    108\u001b[0m fps \u001b[38;5;241m=\u001b[39m \u001b[38;5;241m10\u001b[39m\u001b[38;5;241m/\u001b[39m\u001b[38;5;241m.6\u001b[39m\n\u001b[1;32m    109\u001b[0m start_frame  \u001b[38;5;241m=\u001b[39m \u001b[38;5;241m0\u001b[39m\n",
      "File \u001b[0;32m~/Desktop/MBL/project/WholeBrainImagingAnalysis/collab/save_img_utils/save_img_utils.py:127\u001b[0m, in \u001b[0;36msave_masked_imgs_and_annotations\u001b[0;34m(mask_img_dir, frames, output_dir, get_text_fnc, midlines, z_beh, org_midlines, is_masked, frame_counter, save_mask_img, masked_img_output_dir, imgs, masked_color, org_midline_color)\u001b[0m\n\u001b[1;32m    122\u001b[0m     image\u001b[38;5;241m.\u001b[39msave(os\u001b[38;5;241m.\u001b[39mpath\u001b[38;5;241m.\u001b[39mjoin(masked_img_output_dir, \u001b[38;5;124mf\u001b[39m\u001b[38;5;124m\"\u001b[39m\u001b[38;5;124mframe_\u001b[39m\u001b[38;5;132;01m{\u001b[39;00mframe_counter\u001b[38;5;132;01m:\u001b[39;00m\u001b[38;5;124m04d\u001b[39m\u001b[38;5;132;01m}\u001b[39;00m\u001b[38;5;124m.png\u001b[39m\u001b[38;5;124m\"\u001b[39m)) \u001b[38;5;66;03m# save blank masekd image \u001b[39;00m\n\u001b[1;32m    124\u001b[0m draw \u001b[38;5;241m=\u001b[39m ImageDraw\u001b[38;5;241m.\u001b[39mDraw(image)\n\u001b[0;32m--> 127\u001b[0m text \u001b[38;5;241m=\u001b[39m \u001b[43mget_text_fnc\u001b[49m\u001b[43m(\u001b[49m\u001b[43mframe\u001b[49m\u001b[43m)\u001b[49m\n\u001b[1;32m    128\u001b[0m \u001b[38;5;66;03m# f\"confocal frame: {idx}; nir frame: {frames[0]+new_time[i]} \\n beh: {beh[beh_is[i]]}; mask: {interpolated_mask[i]} mask_nir: {mask_nir[int(frames[0]+new_time[i])]} \\n length(px): {spline_lengths[i]}\"\u001b[39;00m\n\u001b[1;32m    129\u001b[0m \n\u001b[1;32m    130\u001b[0m \u001b[38;5;66;03m# You can adjust the font, position, and size\u001b[39;00m\n\u001b[1;32m    131\u001b[0m font \u001b[38;5;241m=\u001b[39m ImageFont\u001b[38;5;241m.\u001b[39mload_default()  \u001b[38;5;66;03m# Use default font\u001b[39;00m\n",
      "Cell \u001b[0;32mIn[5], line 65\u001b[0m, in \u001b[0;36mget_text_confocal_state\u001b[0;34m(frame, state_strs)\u001b[0m\n\u001b[1;32m     60\u001b[0m \u001b[38;5;28;01mdef\u001b[39;00m \u001b[38;5;21mget_text_confocal_state\u001b[39m(frame, \n\u001b[1;32m     61\u001b[0m                             state_strs, \n\u001b[1;32m     62\u001b[0m                           \n\u001b[1;32m     63\u001b[0m                           ):\n\u001b[0;32m---> 65\u001b[0m     txt \u001b[38;5;241m=\u001b[39m \u001b[38;5;124mf\u001b[39m\u001b[38;5;124m\"\u001b[39m\u001b[38;5;124mconfocal frame: \u001b[39m\u001b[38;5;132;01m{\u001b[39;00mframe\u001b[38;5;132;01m}\u001b[39;00m\u001b[38;5;124m   state:  \u001b[39m\u001b[38;5;132;01m{\u001b[39;00mstate_strs[frame]\u001b[38;5;132;01m}\u001b[39;00m\u001b[38;5;124m\"\u001b[39m \u001b[38;5;66;03m#\\n mask: {masked[frame]}\"# \\n looping_img: {is_looping_bin_img[frame]} loopflav: {loopflav[frame]} \"# \\n a_to_ps: {a_to_ps[frame]}\"\u001b[39;00m\n\u001b[1;32m     66\u001b[0m     \u001b[38;5;28;01mreturn\u001b[39;00m txt\n",
      "\u001b[0;31mIndexError\u001b[0m: list index out of range"
     ]
    }
   ],
   "source": [
    "\n"
   ]
  },
  {
   "cell_type": "code",
   "execution_count": null,
   "metadata": {},
   "outputs": [],
   "source": []
  }
 ],
 "metadata": {
  "kernelspec": {
   "display_name": "DLC_YOLO_GUI",
   "language": "python",
   "name": "python3"
  },
  "language_info": {
   "codemirror_mode": {
    "name": "ipython",
    "version": 3
   },
   "file_extension": ".py",
   "mimetype": "text/x-python",
   "name": "python",
   "nbconvert_exporter": "python",
   "pygments_lexer": "ipython3",
   "version": "3.9.18"
  }
 },
 "nbformat": 4,
 "nbformat_minor": 2
}
